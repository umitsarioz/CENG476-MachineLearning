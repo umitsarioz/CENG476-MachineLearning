{
 "cells": [
  {
   "cell_type": "code",
   "execution_count": 5,
   "metadata": {},
   "outputs": [],
   "source": [
    "import numpy as np "
   ]
  },
  {
   "cell_type": "code",
   "execution_count": 22,
   "metadata": {},
   "outputs": [],
   "source": [
    "def init_params(sample_size,lr=0.001,iterations=100):\n",
    "    losses = []\n",
    "    params = {}\n",
    "    grads = {}\n",
    "    cache = {}\n",
    "    return sample_size,lr,iterations,params,grads,cache\n",
    "\n",
    "def init_weights(layers=[3,4,5]):\n",
    "    n_x = layers[0]\n",
    "    n_h = layers[1]\n",
    "    n_y = layers[2]\n",
    "    W1 = np.random.rand(n_x,n_h)\n",
    "    W2 = np.random.rand(n_h,n_y)\n",
    "    b1 = np.zeros(shape=(n_h,1))\n",
    "    b2 = np.zeros(shape=(n_y,1))\n",
    "    \n",
    "    params = {\"w1\":W1,\"b1\":b1,\"w2\":W2,\"b2\":b2}\n",
    "    return params\n",
    "\n",
    "def activation_func(Z,f='sigmoid',derivable=False):\n",
    "    if f=='sigmoid':\n",
    "        if derivable:\n",
    "            A = Z # Aktivasyon fonksiyonu çıktısı\n",
    "            return A * (1-A)\n",
    "        else:\n",
    "            return 1 / (1 + np.exp(-Z)) # Z : lineer fonksiyon cıktısı\n",
    "    elif f =='tanh':\n",
    "        if derivable:\n",
    "            A = Z # Z aslında aktivasyon fonksiyonun çıktısı\n",
    "            return (1- np.power(A,2))\n",
    "        else:\n",
    "            return np.tanh(Z)\n",
    "        \n",
    "def lineer_func(X,W,b):\n",
    "    return np.dot(W,X)+b\n",
    "        \n",
    "def forward_propagation(X,params):\n",
    "    '''\n",
    "    Args: X: input\n",
    "          y: real value\n",
    "          params: weights and biases\n",
    "    Return: \n",
    "          loss: loss\n",
    "          cache: calculation results z1,a1,z2,a2\n",
    "    '''\n",
    "    W1 = params[\"w1\"]\n",
    "    b1 = params[\"b1\"]\n",
    "    W2 = params[\"w2\"]\n",
    "    b2 = params[\"b2\"]\n",
    "\n",
    "    assert W1.shape[0] ==  X.shape[1]\n",
    "    #m = self.sample_size # sample_size\n",
    "    Z1 = lineer_func(X,W1,b1)\n",
    "    A1 = activation_func(Z1,f='tanh')\n",
    "    #print(\"A1.shape:\",A1.shape,\"W2.shape:\",W2.shape)\n",
    "    assert W2.shape[0] == A1.shape[1]\n",
    "\n",
    "    Z2 = lineer_func(A1,W2,b2)\n",
    "    yhat = activation_func(Z2,f='softmax')\n",
    "\n",
    "    cache = {\"Z1\":Z1,\"A1\":A1,\"Z2\":Z2,\"yhat\":yhat}\n",
    "\n",
    "    return yhat,cache       \n",
    "\n",
    "def calculate_loss(y,yhat):\n",
    "    loss = -1 * (np.multiply(np.log(yhat),y) + np.multiply(np.log(1-yhat),1-y))\n",
    "    return loss\n",
    "\n",
    "def backpropagation():\n",
    "    return None\n",
    "\n",
    "def update_params(params,grads,lr=0.001):\n",
    "    '''\n",
    "    Returns updated params\n",
    "    '''\n",
    "    # Weight and biases \n",
    "    W1 = params[\"w1\"]\n",
    "    b1 = params[\"b1\"]\n",
    "    W2 = params[\"w2\"]\n",
    "    b2 = params[\"b2\"]\n",
    "    #print(\"W1\",W1)\n",
    "    # Gradients\n",
    "    dw1 = grads[\"dw1\"]\n",
    "    db1 = grads[\"db1\"]\n",
    "    dw2 = grads[\"dw2\"]\n",
    "    db2 = grads[\"db2\"]\n",
    "    #print(\"Dw1:\",dw1)\n",
    "    #print(\"carpim:\",lr*dw1)\n",
    "    #print(\"fark:\",W1-lr*dw1)\n",
    "    # Update parameters according to given parameters and learning rate \n",
    "    w1 = W1 - lr * dw1\n",
    "    b1 = b1 - lr * db1\n",
    "    w2 = W2 - lr * dw2\n",
    "    b2 = b2 - lr * db2\n",
    "\n",
    "    updated_params = {\"w1\":w1,\"b1\":b1,\"w2\":w2,\"b2\":b2}\n",
    "    return updated_params"
   ]
  },
  {
   "cell_type": "code",
   "execution_count": 23,
   "metadata": {},
   "outputs": [],
   "source": [
    "sample_size,lr,iterations,params,grads,cache = init_params(120)"
   ]
  },
  {
   "cell_type": "code",
   "execution_count": 24,
   "metadata": {},
   "outputs": [],
   "source": [
    "params = init_weights()"
   ]
  },
  {
   "cell_type": "code",
   "execution_count": 25,
   "metadata": {},
   "outputs": [
    {
     "data": {
      "text/plain": [
       "{'w1': array([[0.5435835 , 0.79942741, 0.42102122, 0.18862147],\n",
       "        [0.54961571, 0.86592759, 0.7472616 , 0.71125533],\n",
       "        [0.98629582, 0.18245353, 0.20116573, 0.81017015]]),\n",
       " 'b1': array([[0.],\n",
       "        [0.],\n",
       "        [0.],\n",
       "        [0.]]),\n",
       " 'w2': array([[0.30909915, 0.93696358, 0.73573113, 0.26251919, 0.33455188],\n",
       "        [0.76000173, 0.89288701, 0.14840922, 0.92964411, 0.62702954],\n",
       "        [0.15452959, 0.39500429, 0.23124484, 0.901031  , 0.61553826],\n",
       "        [0.34996202, 0.57982034, 0.67736167, 0.80482271, 0.34662216]]),\n",
       " 'b2': array([[0.],\n",
       "        [0.],\n",
       "        [0.],\n",
       "        [0.],\n",
       "        [0.]])}"
      ]
     },
     "execution_count": 25,
     "metadata": {},
     "output_type": "execute_result"
    }
   ],
   "source": [
    "params"
   ]
  },
  {
   "cell_type": "code",
   "execution_count": 26,
   "metadata": {},
   "outputs": [],
   "source": [
    "from sklearn.datasets import load_iris\n",
    "from sklearn.model_selection import train_test_split"
   ]
  },
  {
   "cell_type": "code",
   "execution_count": 27,
   "metadata": {},
   "outputs": [
    {
     "name": "stdout",
     "output_type": "stream",
     "text": [
      "X.shape: (150, 4) y.shape: (150,)\n",
      "Xtrain.shape: (120, 4) ytrain.shape: (120,)\n",
      "\n",
      "Xtrain[:5]:\n",
      "[[5.8 4.  1.2 0.2]\n",
      " [4.8 3.4 1.9 0.2]\n",
      " [6.9 3.1 5.4 2.1]\n",
      " [6.6 2.9 4.6 1.3]\n",
      " [4.4 2.9 1.4 0.2]]\n",
      "\n",
      "ytrain[:5]:\n",
      "[0 0 2 1 0]\n"
     ]
    }
   ],
   "source": [
    "iris_ds = load_iris()\n",
    "X,y = iris_ds.data,iris_ds.target\n",
    "print(\"X.shape:\",X.shape,\"y.shape:\",y.shape)\n",
    "Xtrain,Xtest,ytrain,ytest = train_test_split(X,y,test_size=.2,random_state=3)\n",
    "\n",
    "print(\"Xtrain.shape:\",Xtrain.shape,\"ytrain.shape:\",ytrain.shape)\n",
    "print(f\"\\nXtrain[:5]:\\n{Xtrain[:5]}\\n\\nytrain[:5]:\\n{ytrain[:5]}\")\n",
    "\n",
    "\n",
    "\n"
   ]
  },
  {
   "cell_type": "code",
   "execution_count": 28,
   "metadata": {},
   "outputs": [
    {
     "ename": "ValueError",
     "evalue": "shapes (3,4) and (120,4) not aligned: 4 (dim 1) != 120 (dim 0)",
     "output_type": "error",
     "traceback": [
      "\u001b[1;31m---------------------------------------------------------------------------\u001b[0m",
      "\u001b[1;31mValueError\u001b[0m                                Traceback (most recent call last)",
      "\u001b[1;32m<ipython-input-28-d1057e211f33>\u001b[0m in \u001b[0;36m<module>\u001b[1;34m\u001b[0m\n\u001b[1;32m----> 1\u001b[1;33m \u001b[0myhat\u001b[0m\u001b[1;33m,\u001b[0m\u001b[0mcache\u001b[0m \u001b[1;33m=\u001b[0m \u001b[0mforward_propagation\u001b[0m\u001b[1;33m(\u001b[0m\u001b[0mXtrain\u001b[0m\u001b[1;33m,\u001b[0m\u001b[0mparams\u001b[0m\u001b[1;33m)\u001b[0m\u001b[1;33m\u001b[0m\u001b[1;33m\u001b[0m\u001b[0m\n\u001b[0m",
      "\u001b[1;32m<ipython-input-22-ec0c96d0674b>\u001b[0m in \u001b[0;36mforward_propagation\u001b[1;34m(X, params)\u001b[0m\n\u001b[0;32m     51\u001b[0m     \u001b[1;32massert\u001b[0m \u001b[0mW1\u001b[0m\u001b[1;33m.\u001b[0m\u001b[0mshape\u001b[0m\u001b[1;33m[\u001b[0m\u001b[1;36m1\u001b[0m\u001b[1;33m]\u001b[0m \u001b[1;33m==\u001b[0m  \u001b[0mX\u001b[0m\u001b[1;33m.\u001b[0m\u001b[0mshape\u001b[0m\u001b[1;33m[\u001b[0m\u001b[1;36m1\u001b[0m\u001b[1;33m]\u001b[0m\u001b[1;33m\u001b[0m\u001b[1;33m\u001b[0m\u001b[0m\n\u001b[0;32m     52\u001b[0m     \u001b[1;31m#m = self.sample_size # sample_size\u001b[0m\u001b[1;33m\u001b[0m\u001b[1;33m\u001b[0m\u001b[1;33m\u001b[0m\u001b[0m\n\u001b[1;32m---> 53\u001b[1;33m     \u001b[0mZ1\u001b[0m \u001b[1;33m=\u001b[0m \u001b[0mlineer_func\u001b[0m\u001b[1;33m(\u001b[0m\u001b[0mX\u001b[0m\u001b[1;33m,\u001b[0m\u001b[0mW1\u001b[0m\u001b[1;33m,\u001b[0m\u001b[0mb1\u001b[0m\u001b[1;33m)\u001b[0m\u001b[1;33m\u001b[0m\u001b[1;33m\u001b[0m\u001b[0m\n\u001b[0m\u001b[0;32m     54\u001b[0m     \u001b[0mA1\u001b[0m \u001b[1;33m=\u001b[0m \u001b[0mactivation_func\u001b[0m\u001b[1;33m(\u001b[0m\u001b[0mZ1\u001b[0m\u001b[1;33m,\u001b[0m\u001b[0mf\u001b[0m\u001b[1;33m=\u001b[0m\u001b[1;34m'tanh'\u001b[0m\u001b[1;33m)\u001b[0m\u001b[1;33m\u001b[0m\u001b[1;33m\u001b[0m\u001b[0m\n\u001b[0;32m     55\u001b[0m     \u001b[1;31m#print(\"A1.shape:\",A1.shape,\"W2.shape:\",W2.shape)\u001b[0m\u001b[1;33m\u001b[0m\u001b[1;33m\u001b[0m\u001b[1;33m\u001b[0m\u001b[0m\n",
      "\u001b[1;32m<ipython-input-22-ec0c96d0674b>\u001b[0m in \u001b[0;36mlineer_func\u001b[1;34m(X, W, b)\u001b[0m\n\u001b[0;32m     33\u001b[0m \u001b[1;33m\u001b[0m\u001b[0m\n\u001b[0;32m     34\u001b[0m \u001b[1;32mdef\u001b[0m \u001b[0mlineer_func\u001b[0m\u001b[1;33m(\u001b[0m\u001b[0mX\u001b[0m\u001b[1;33m,\u001b[0m\u001b[0mW\u001b[0m\u001b[1;33m,\u001b[0m\u001b[0mb\u001b[0m\u001b[1;33m)\u001b[0m\u001b[1;33m:\u001b[0m\u001b[1;33m\u001b[0m\u001b[1;33m\u001b[0m\u001b[0m\n\u001b[1;32m---> 35\u001b[1;33m     \u001b[1;32mreturn\u001b[0m \u001b[0mnp\u001b[0m\u001b[1;33m.\u001b[0m\u001b[0mdot\u001b[0m\u001b[1;33m(\u001b[0m\u001b[0mW\u001b[0m\u001b[1;33m,\u001b[0m\u001b[0mX\u001b[0m\u001b[1;33m)\u001b[0m\u001b[1;33m+\u001b[0m\u001b[0mb\u001b[0m\u001b[1;33m\u001b[0m\u001b[1;33m\u001b[0m\u001b[0m\n\u001b[0m\u001b[0;32m     36\u001b[0m \u001b[1;33m\u001b[0m\u001b[0m\n\u001b[0;32m     37\u001b[0m \u001b[1;32mdef\u001b[0m \u001b[0mforward_propagation\u001b[0m\u001b[1;33m(\u001b[0m\u001b[0mX\u001b[0m\u001b[1;33m,\u001b[0m\u001b[0mparams\u001b[0m\u001b[1;33m)\u001b[0m\u001b[1;33m:\u001b[0m\u001b[1;33m\u001b[0m\u001b[1;33m\u001b[0m\u001b[0m\n",
      "\u001b[1;32m<__array_function__ internals>\u001b[0m in \u001b[0;36mdot\u001b[1;34m(*args, **kwargs)\u001b[0m\n",
      "\u001b[1;31mValueError\u001b[0m: shapes (3,4) and (120,4) not aligned: 4 (dim 1) != 120 (dim 0)"
     ]
    }
   ],
   "source": [
    "yhat,cache = forward_propagation(Xtrain,params)"
   ]
  },
  {
   "cell_type": "code",
   "execution_count": 30,
   "metadata": {},
   "outputs": [
    {
     "data": {
      "text/plain": [
       "(3, 4)"
      ]
     },
     "execution_count": 30,
     "metadata": {},
     "output_type": "execute_result"
    }
   ],
   "source": [
    "params[\"w1\"].shape"
   ]
  },
  {
   "cell_type": "code",
   "execution_count": null,
   "metadata": {},
   "outputs": [],
   "source": []
  }
 ],
 "metadata": {
  "kernelspec": {
   "display_name": "Python 3",
   "language": "python",
   "name": "python3"
  },
  "language_info": {
   "codemirror_mode": {
    "name": "ipython",
    "version": 3
   },
   "file_extension": ".py",
   "mimetype": "text/x-python",
   "name": "python",
   "nbconvert_exporter": "python",
   "pygments_lexer": "ipython3",
   "version": "3.8.5"
  }
 },
 "nbformat": 4,
 "nbformat_minor": 4
}
