{
 "cells": [
  {
   "cell_type": "code",
   "execution_count": 16,
   "metadata": {},
   "outputs": [],
   "source": [
    "import numpy as np\n",
    "import pandas as pd \n",
    "import time \n",
    "from sklearn.datasets import load_iris\n",
    "from sklearn.model_selection import train_test_split\n",
    "import matplotlib.pyplot as plt "
   ]
  },
  {
   "cell_type": "code",
   "execution_count": 4,
   "metadata": {},
   "outputs": [],
   "source": [
    "iris_ds = load_iris()"
   ]
  },
  {
   "cell_type": "code",
   "execution_count": 5,
   "metadata": {},
   "outputs": [
    {
     "name": "stdout",
     "output_type": "stream",
     "text": [
      "X.shape: (150, 4) y.shape: (150,)\n"
     ]
    }
   ],
   "source": [
    "X,y = iris_ds.data,iris_ds.target\n",
    "print(\"X.shape:\",X.shape,\"y.shape:\",y.shape)"
   ]
  },
  {
   "cell_type": "code",
   "execution_count": 6,
   "metadata": {},
   "outputs": [],
   "source": [
    "Xtrain,Xtest,ytrain,ytest = train_test_split(X,y,test_size=.2,random_state=3)"
   ]
  },
  {
   "cell_type": "code",
   "execution_count": 7,
   "metadata": {},
   "outputs": [
    {
     "name": "stdout",
     "output_type": "stream",
     "text": [
      "Xtrain.shape: (120, 4) ytrain.shape: (120,)\n",
      "\n",
      "Xtrain[:5]:\n",
      "[[5.8 4.  1.2 0.2]\n",
      " [4.8 3.4 1.9 0.2]\n",
      " [6.9 3.1 5.4 2.1]\n",
      " [6.6 2.9 4.6 1.3]\n",
      " [4.4 2.9 1.4 0.2]]\n",
      "\n",
      "ytrain[:5]:\n",
      "[0 0 2 1 0]\n"
     ]
    }
   ],
   "source": [
    "print(\"Xtrain.shape:\",Xtrain.shape,\"ytrain.shape:\",ytrain.shape)\n",
    "print(f\"\\nXtrain[:5]:\\n{Xtrain[:5]}\\n\\nytrain[:5]:\\n{ytrain[:5]}\")"
   ]
  },
  {
   "cell_type": "code",
   "execution_count": 8,
   "metadata": {},
   "outputs": [],
   "source": [
    "Xtrain,Xtest,ytrain,ytest = Xtrain.T,Xtest.T,ytrain.reshape(-1,1).T,ytest.reshape(-1,1).T"
   ]
  },
  {
   "cell_type": "code",
   "execution_count": 9,
   "metadata": {},
   "outputs": [
    {
     "name": "stdout",
     "output_type": "stream",
     "text": [
      "Xtrain.shape: (4, 120) ytrain.shape: (1, 120)\n",
      "\n",
      "Xtrain[:5]:\n",
      "[[5.8 4.8 6.9 6.6 4.4]\n",
      " [4.  3.4 3.1 2.9 2.9]\n",
      " [1.2 1.9 5.4 4.6 1.4]\n",
      " [0.2 0.2 2.1 1.3 0.2]]\n",
      "\n",
      "ytrain[:5]:\n",
      "[[0 0 2 1 0]]\n"
     ]
    }
   ],
   "source": [
    "print(\"Xtrain.shape:\",Xtrain.shape,\"ytrain.shape:\",ytrain.shape)\n",
    "print(f\"\\nXtrain[:5]:\\n{Xtrain[:,:5]}\\n\\nytrain[:5]:\\n{ytrain[:,:5]}\")"
   ]
  },
  {
   "cell_type": "code",
   "execution_count": 10,
   "metadata": {},
   "outputs": [
    {
     "name": "stdout",
     "output_type": "stream",
     "text": [
      "{0: 'setosa', 1: 'versicolor', 2: 'virginica'}\n"
     ]
    }
   ],
   "source": [
    "idx_to_target = {}\n",
    "for idx,target in enumerate(iris_ds.target_names):\n",
    "    idx_to_target[idx] = target\n",
    "print(idx_to_target)"
   ]
  },
  {
   "cell_type": "code",
   "execution_count": 11,
   "metadata": {},
   "outputs": [],
   "source": [
    "def init_model(layer_dims=[4,5,3]):\n",
    "    layer_dims = layer_dims # input_layer,hidden_layer,output_layer(2 layer nn with 1 hidden layer.)\n",
    "    #lr = lr  # learning_rate \n",
    "    params = {} # Weights and biases Parameters for forward pass\n",
    "    grads = {} # gradients after backward pass\n",
    "    cache = {} # generated results after forward pass \n",
    "    losses = [] # all costs for each epoch\n",
    "    X = None # one input\n",
    "    y = None # one real target\n",
    "    sample_size = None # sample count(all datas')\n",
    "    return layer_dims,losses\n",
    "\n",
    "def init_params(layer_dims):\n",
    "        '''\n",
    "        n_x : size of input layer\n",
    "        n_h : size of hidden layer\n",
    "        n_y : size of output layer\n",
    "        w1  : Weights of input layer to hidden layer\n",
    "        b1  : biases of input layer to hidden layer\n",
    "        w2  : Weights of hidden layer to output layer\n",
    "        b2  : biases of hidden layer to output layer \n",
    "        '''\n",
    "        n_x,n_h,n_y = layer_dims[0],layer_dims[1],layer_dims[2]\n",
    "        W1 = np.random.rand(n_h,n_x) * 0.01\n",
    "        b1 = np.zeros((n_h,1))\n",
    "        W2 = np.random.rand(n_y,n_h) * 0.01\n",
    "        b2 = np.zeros((n_y,1))\n",
    "        params = {\"w1\":W1,\"b1\":b1,\"w2\":W2,\"b2\":b2}\n",
    "        return params\n",
    "\n",
    "def lineer_func(X,W,b):\n",
    "    if X.shape != (X.shape[0],1):\n",
    "        X = X.reshape(-1,1)\n",
    "    return np.dot(W,X) + b \n",
    "\n",
    "def non_lineer_func(Z,f='sigmoid'):\n",
    "    '''\n",
    "    Z : lineer calculation result \n",
    "    f : activation function \n",
    "    '''\n",
    "    if f == 'sigmoid':\n",
    "        score = 1 / (1 + np.exp(-Z))\n",
    "        return score\n",
    "    elif f == 'softmax': \n",
    "        score = np.exp(Z) / np.sum(np.exp(Z))  \n",
    "        return score \n",
    "    elif f== 'tanh':\n",
    "        score = np.tanh(Z)\n",
    "        return score \n",
    "    else:\n",
    "        raise Exception('Wrong Activation Function in Non-lineer!')\n",
    "\n",
    "def forward_propagation(X,params):\n",
    "    '''\n",
    "    Args: X: input\n",
    "          y: real value\n",
    "          params: weights and biases\n",
    "    Return: \n",
    "          loss: loss\n",
    "          cache: calculation results z1,a1,z2,a2\n",
    "    '''\n",
    "    W1 = params[\"w1\"]\n",
    "    b1 = params[\"b1\"]\n",
    "    W2 = params[\"w2\"]\n",
    "    b2 = params[\"b2\"]\n",
    "\n",
    "    assert W1.shape[1] ==  X.shape[0]\n",
    "    #m = self.sample_size # sample_size\n",
    "    Z1 = lineer_func(X,W1,b1)\n",
    "    A1 = non_lineer_func(Z1,f='tanh')\n",
    "    #print(\"A1.shape:\",A1.shape,\"W2.shape:\",W2.shape)\n",
    "    assert W2.shape[1] == A1.shape[0]\n",
    "\n",
    "    Z2 = lineer_func(A1,W2,b2)\n",
    "    yhat = non_lineer_func(Z2,f='softmax')\n",
    "\n",
    "    cache = {\"Z1\":Z1,\"A1\":A1,\"Z2\":Z2,\"yhat\":yhat}\n",
    "\n",
    "    return yhat,cache\n",
    "\n",
    "def calculate_loss(y,yhat):\n",
    "    loss = -1 * (np.multiply(np.log(yhat),y) + np.multiply(np.log(1-yhat),1-y))\n",
    "    return loss\n",
    "\n",
    "def calculate_cost(losses,m):\n",
    "    return np.sum(losses) / m\n",
    "\n",
    "def tanh_derivative(A):\n",
    "    '''\n",
    "    Args: You need to give Ai to find derivate of Zi\n",
    "    '''\n",
    "    return (1- np.power(A,2))\n",
    "\n",
    "def back_propagation(X,y,params,cache,sample_size):\n",
    "    '''\n",
    "    compute derivative and update weights&biases\n",
    "    Returns gradients(grads)\n",
    "    '''\n",
    "    m = sample_size # sample_size\n",
    "    W1 = params[\"w1\"]\n",
    "    W2 = params[\"w2\"]\n",
    "\n",
    "    A1 = cache[\"A1\"]\n",
    "    yhat = cache[\"yhat\"]\n",
    "    \n",
    "    if X.shape != (X.shape[0],1):\n",
    "        X = X.reshape(-1,1)\n",
    "    assert len(y) == 1 \n",
    "    assert yhat.shape == (3,1) # n_y,1\n",
    "    # backward\n",
    "    dz2 =  yhat - y \n",
    "    #print(\"dZ2:\\n\",dz2,\"\\t Shape:\",dz2.shape)\n",
    "    #print(\"A1:\\n\",A1,\"\\t Shape:\",A1.shape)\n",
    "    #print(\"m:\",m)\n",
    "    dw2 = np.dot(dz2,A1.T) / m\n",
    "    db2 = np.sum(dz2,axis=1,keepdims=True) / m\n",
    "\n",
    "    dz1 = np.multiply(np.dot(W2.T,dz2), tanh_derivative(A1))\n",
    "\n",
    "    dw1 = np.dot(dz1,X.T) / m \n",
    "    db1 = np.sum(dz1,axis=1,keepdims=True) / m\n",
    "\n",
    "    grads = {\"dw1\":dw1,\"db1\":db1,\"dw2\":dw2,\"db2\":db2}\n",
    "    return grads\n",
    "\n",
    "def update_params(params,grads,lr=0.001):\n",
    "    '''\n",
    "    Returns updated params\n",
    "    '''\n",
    "    # Weight and biases \n",
    "    W1 = params[\"w1\"]\n",
    "    b1 = params[\"b1\"]\n",
    "    W2 = params[\"w2\"]\n",
    "    b2 = params[\"b2\"]\n",
    "    #print(\"W1\",W1)\n",
    "    # Gradients\n",
    "    dw1 = grads[\"dw1\"]\n",
    "    db1 = grads[\"db1\"]\n",
    "    dw2 = grads[\"dw2\"]\n",
    "    db2 = grads[\"db2\"]\n",
    "    #print(\"Dw1:\",dw1)\n",
    "    #print(\"carpim:\",lr*dw1)\n",
    "    #print(\"fark:\",W1-lr*dw1)\n",
    "    # Update parameters according to given parameters and learning rate \n",
    "    w1 = W1 - lr * dw1\n",
    "    b1 = b1 - lr * db1\n",
    "    w2 = W2 - lr * dw2\n",
    "    b2 = b2 - lr * db2\n",
    "\n",
    "    updated_params = {\"w1\":w1,\"b1\":b1,\"w2\":w2,\"b2\":b2}\n",
    "    return updated_params\n",
    "\n",
    "def fit(X,y,sample_size,epochs=100,lr=0.1):\n",
    "    print(\"Training is began..\")\n",
    "    layer_dims,losses = init_model() # i defined default \n",
    "    params = init_params(layer_dims) \n",
    "    costs = []\n",
    "    for epoch in range(epochs):\n",
    "        start = time.time()\n",
    "        for i in range(sample_size):\n",
    "            X_,y_ = X[:,i],y[:,i] # Take a data point\n",
    "            yhat,cache = forward_propagation(X_,params) # apply forward pass to find weights & biases \n",
    "            grads = back_propagation(X_,y_,params,cache,sample_size) # find gradients \n",
    "            params = update_params(params,grads,lr=lr) # update parameters\n",
    "            loss = calculate_loss(y_,yhat) # calculate loss -negative log likelihood\n",
    "            losses.append(loss)\n",
    "        cost = calculate_cost(losses,sample_size) # calculate cost \n",
    "        if epoch % 10 == 0:\n",
    "            print(\"Epoch: {} \\t Cost: {} \\t Time: {} second\".format(epoch,cost,np.round(time.time()-start,2)))\n",
    "        losses = []\n",
    "        costs.append(cost)\n",
    "    return params,costs\n",
    "\n",
    "def predict(X,params):\n",
    "    '''\n",
    "    Buraya Bakılacak.. Indeks degerinin dogru orantılı olarak temsil ettigini nasıl bilebilir? Üzerine düşünülecek..\n",
    "    '''\n",
    "    yhat,_ = forward_propagation(X,params)\n",
    "    prediction = np.argmax(yhat)\n",
    "    return prediction\n",
    "\n",
    "def calc_acc(X,y,model):\n",
    "    cor = 0\n",
    "    total = X.shape[1]\n",
    "    for i in range(total):\n",
    "        pred = predict(X[:,i],model)\n",
    "        if pred == y[:,i]:\n",
    "            cor+=1\n",
    "    acc = float(cor/total)\n",
    "    print(\"Cor:\",cor,\"Total:\",total,\"Acc:\",acc)\n",
    "    return acc\n",
    "\n",
    "def plot_losses(costs):\n",
    "    plt.plot(range(len(costs)),costs)\n",
    "    plt.title(\"Losses per epoch\")\n",
    "    plt.xlabel(\"Epoch\")\n",
    "    plt.ylabel(\"Losses\")"
   ]
  },
  {
   "cell_type": "code",
   "execution_count": 12,
   "metadata": {},
   "outputs": [
    {
     "name": "stdout",
     "output_type": "stream",
     "text": [
      "Xtrain.shape: (4, 120) ytrain.shape: (1, 120)\n"
     ]
    }
   ],
   "source": [
    "print(\"Xtrain.shape:\",Xtrain.shape,\"ytrain.shape:\",ytrain.shape)"
   ]
  },
  {
   "cell_type": "code",
   "execution_count": 13,
   "metadata": {},
   "outputs": [
    {
     "name": "stdout",
     "output_type": "stream",
     "text": [
      "Training is began..\n",
      "Epoch: 0 \t Cost: 3.2958375999290843 \t Time: 0.01 second\n",
      "Epoch: 10 \t Cost: 3.295840961175612 \t Time: 0.01 second\n",
      "Epoch: 20 \t Cost: 3.2958370124803604 \t Time: 0.01 second\n",
      "Epoch: 30 \t Cost: 3.2958372788463186 \t Time: 0.01 second\n",
      "Epoch: 40 \t Cost: 3.2958371978852883 \t Time: 0.02 second\n",
      "Epoch: 50 \t Cost: 3.2958370973816984 \t Time: 0.01 second\n",
      "Epoch: 60 \t Cost: 3.295837007015366 \t Time: 0.01 second\n",
      "Epoch: 70 \t Cost: 3.2958369478691103 \t Time: 0.01 second\n",
      "Epoch: 80 \t Cost: 3.2958369127203366 \t Time: 0.01 second\n",
      "Epoch: 90 \t Cost: 3.2958368924807795 \t Time: 0.01 second\n"
     ]
    }
   ],
   "source": [
    "sample_size = 120 \n",
    "model_params,costs = fit(Xtrain,ytrain,sample_size)"
   ]
  },
  {
   "cell_type": "code",
   "execution_count": 14,
   "metadata": {},
   "outputs": [
    {
     "name": "stdout",
     "output_type": "stream",
     "text": [
      "Cor: 10 Total: 30 Acc: 0.3333333333333333\n"
     ]
    }
   ],
   "source": [
    "acc = calc_acc(Xtest,ytest,model_params)"
   ]
  },
  {
   "cell_type": "code",
   "execution_count": 15,
   "metadata": {},
   "outputs": [
    {
     "data": {
      "image/png": "[encoded data removed]",
      "text/plain": [
       "<Figure size 432x288 with 1 Axes>"
      ]
     },
     "metadata": {
      "needs_background": "light"
     },
     "output_type": "display_data"
    }
   ],
   "source": [
    "plot_losses(costs)"
   ]
  },
  {
   "cell_type": "code",
   "execution_count": null,
   "metadata": {},
   "outputs": [],
   "source": []
  }
 ],
 "metadata": {
  "kernelspec": {
   "display_name": "Python 3",
   "language": "python",
   "name": "python3"
  },
  "language_info": {
   "codemirror_mode": {
    "name": "ipython",
    "version": 3
   },
   "file_extension": ".py",
   "mimetype": "text/x-python",
   "name": "python",
   "nbconvert_exporter": "python",
   "pygments_lexer": "ipython3",
   "version": "3.8.5"
  }
 },
 "nbformat": 4,
 "nbformat_minor": 4
}
