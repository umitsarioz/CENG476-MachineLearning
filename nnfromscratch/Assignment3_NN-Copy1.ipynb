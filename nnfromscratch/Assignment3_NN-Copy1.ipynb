{
 "cells": [
  {
   "cell_type": "code",
   "execution_count": 1,
   "metadata": {},
   "outputs": [],
   "source": [
    "import numpy as np\n",
    "import pandas as pd \n",
    "import time \n",
    "from sklearn.datasets import load_iris\n",
    "from sklearn.model_selection import train_test_split\n",
    "import matplotlib.pyplot as plt "
   ]
  },
  {
   "cell_type": "code",
   "execution_count": 2,
   "metadata": {},
   "outputs": [],
   "source": [
    "iris_ds = load_iris()"
   ]
  },
  {
   "cell_type": "code",
   "execution_count": 3,
   "metadata": {},
   "outputs": [
    {
     "name": "stdout",
     "output_type": "stream",
     "text": [
      "X.shape: (150, 4) y.shape: (150,)\n"
     ]
    }
   ],
   "source": [
    "X,y = iris_ds.data,iris_ds.target\n",
    "print(\"X.shape:\",X.shape,\"y.shape:\",y.shape)"
   ]
  },
  {
   "cell_type": "code",
   "execution_count": 4,
   "metadata": {},
   "outputs": [],
   "source": [
    "Xtrain,Xtest,ytrain,ytest = train_test_split(X,y,test_size=.2,random_state=3)"
   ]
  },
  {
   "cell_type": "code",
   "execution_count": 5,
   "metadata": {},
   "outputs": [
    {
     "name": "stdout",
     "output_type": "stream",
     "text": [
      "Xtrain.shape: (120, 4) ytrain.shape: (120,)\n",
      "\n",
      "Xtrain[:5]:\n",
      "[[5.8 4.  1.2 0.2]\n",
      " [4.8 3.4 1.9 0.2]\n",
      " [6.9 3.1 5.4 2.1]\n",
      " [6.6 2.9 4.6 1.3]\n",
      " [4.4 2.9 1.4 0.2]]\n",
      "\n",
      "ytrain[:5]:\n",
      "[0 0 2 1 0]\n"
     ]
    }
   ],
   "source": [
    "print(\"Xtrain.shape:\",Xtrain.shape,\"ytrain.shape:\",ytrain.shape)\n",
    "print(f\"\\nXtrain[:5]:\\n{Xtrain[:5]}\\n\\nytrain[:5]:\\n{ytrain[:5]}\")"
   ]
  },
  {
   "cell_type": "code",
   "execution_count": 6,
   "metadata": {},
   "outputs": [
    {
     "name": "stdout",
     "output_type": "stream",
     "text": [
      "{0: 'setosa', 1: 'versicolor', 2: 'virginica'}\n"
     ]
    }
   ],
   "source": [
    "idx_to_target = {}\n",
    "for idx,target in enumerate(iris_ds.target_names):\n",
    "    idx_to_target[idx] = target\n",
    "print(idx_to_target)"
   ]
  },
  {
   "cell_type": "code",
   "execution_count": 7,
   "metadata": {},
   "outputs": [
    {
     "name": "stdout",
     "output_type": "stream",
     "text": [
      "Xtrain.shape: (4, 120) \tytrain.shape: (1, 120)\n"
     ]
    }
   ],
   "source": [
    "Xtrain = Xtrain.T\n",
    "ytrain = ytrain.T.reshape(1,-1)\n",
    "print(\"Xtrain.shape:\",Xtrain.shape,\"\\tytrain.shape:\",ytrain.shape)"
   ]
  },
  {
   "cell_type": "code",
   "execution_count": null,
   "metadata": {},
   "outputs": [],
   "source": []
  },
  {
   "cell_type": "code",
   "execution_count": 8,
   "metadata": {},
   "outputs": [],
   "source": [
    "# init layer\n",
    "def run(X,y,epochs=100,lr=0.0001):\n",
    "    np.random.seed(5)\n",
    "    m = y.shape[1]\n",
    "    costs = []\n",
    "    params = {}\n",
    "    # init layers \n",
    "    layer_dims = [4,5,3] \n",
    "    n_x = layer_dims[0]\n",
    "    n_h = layer_dims[1]\n",
    "    n_y = layer_dims[2]\n",
    "    # init weights and bias\n",
    "    w1 = 2 * np.random.rand(n_x,n_h) - 1\n",
    "    w2 = 2 * np.random.rand(n_h,n_y) - 1  \n",
    "\n",
    "    b1 = np.zeros(shape=(n_h,1))\n",
    "    b2 = np.zeros(shape=(n_y,1))\n",
    "    \n",
    "    for ep in range(epochs):\n",
    "        # forward prop\n",
    "        z1 = np.dot(w1.T,X) + b1 # (4,5).T @ (4,120) + (5,1) = (5,120)\n",
    "        a1 = np.tanh(z1) # (5,120)\n",
    "        z2 = np.dot(w2.T,a1) + b2 # (5,3).T @ (5,120) + (3,1) = (3,120)\n",
    "        a2 = 1 / (1 + np.exp(z2)) # (3,120)\n",
    "        # store the values for back prop\n",
    "        cache = {\"z1\":z1,\"a1\":a1,\"z2\":z2,\"a2\":a2}\n",
    "        #print(\"Shape A2:\",a2.shape)\n",
    "        #print(\"Shape y:\",y.shape)\n",
    "        loss = np.multiply(np.log(a2),y) + np.multiply(np.log(1-a2),(1-y))\n",
    "        cost = np.sum(loss) * -1 / m \n",
    "        cost = np.squeeze(cost)\n",
    "        #if ep>50 and cost> costs[-1] and cost>costs[-2] and cost>costs[-3]: # Check condition. I add early_stopping condition as greedy.\n",
    "        #    print(\"Early stopping is applied.. So stopped training.\")\n",
    "        #    params = {\"w1\":w1,\"b1\":b1,\"w2\":w2,\"b2\":b2}\n",
    "        #    break\n",
    "            \n",
    "        costs.append(cost)\n",
    "\n",
    "            \n",
    "        params = {\"w1\":w1,\"b1\":b1,\"w2\":w2,\"b2\":b2}\n",
    "        #print(\"w1.shape:\",params[\"w1\"].shape)\n",
    "        # backpropagation\n",
    "        dz2 = a2 - y # (3,120) - (1,120) = (3,120)\n",
    "        \n",
    "        dw2 = np.dot(a1,dz2.T) / m # (5,120) @ (3,120).T = (5,3)\n",
    "        db2 = np.sum(dz2,axis=1,keepdims=True) / m # (3,1)\n",
    "    \n",
    "        tanh_deriv = 1 - np.power(a1,2) # (5,120)\n",
    "        dz1 = np.multiply(np.dot(w2,dz2),tanh_deriv) #   (5,3) @ (3,120) * (5,120) = (5,120)\n",
    "        \n",
    "        dw1 = np.dot(X,dz1.T) / m # (4,120) @ (5,120).T = (4,5)\n",
    "        db1 = np.sum(dz1,axis=1,keepdims=True) / m # (5,1)\n",
    "        \n",
    "                \n",
    "        if ep %10000 == 0 :\n",
    "            print(\"Epoch\",ep,\"cost:\",cost)\n",
    "            #print(\"dw1:\",dw1)\n",
    "            #print(\"dw2:\",dw2)\n",
    "            #print(\"a1:\",a1)\n",
    "            #print(\"a2:\",a2)\n",
    "            \n",
    "        # update weights and biases \n",
    "\n",
    "        w1 -= lr * dw1 # (4,5) - (4,5)\n",
    "        w2 -= lr * dw2 # (5,3) - (5,3)\n",
    "        b1 -= lr * db1 # (5,1) - (5,1)\n",
    "        b2 -= lr * db2 # (3,1) - (3,1)\n",
    "        \n",
    "        if dw1.any() == 0 or dw2.any() == 0:\n",
    "            print(\"Gradient Vanishing problem is occured.. So stopped training.\")\n",
    "            break\n",
    "        if dw1.any() == np.nan or dw2.any() == np.nan:\n",
    "            print(\"Gradient Exploiding problem is occured.. So stopped training.\")\n",
    "            break\n",
    "    print(\"best cost:\",costs[-1])\n",
    "    return params,costs\n"
   ]
  },
  {
   "cell_type": "code",
   "execution_count": 9,
   "metadata": {},
   "outputs": [
    {
     "name": "stdout",
     "output_type": "stream",
     "text": [
      "Epoch 0 cost: 1.0718814411777438\n",
      "best cost: 1.0770858805284584\n"
     ]
    }
   ],
   "source": [
    "best_params,costs = run(Xtrain,ytrain,epochs=4,lr=0.0001)"
   ]
  },
  {
   "cell_type": "code",
   "execution_count": 10,
   "metadata": {},
   "outputs": [
    {
     "data": {
      "text/plain": [
       "{'w1': array([[-0.55601157,  0.74146463, -0.58656747,  0.83616788, -0.02315605],\n",
       "        [ 0.22348916,  0.53181572,  0.03683202, -0.4068695 , -0.62455133],\n",
       "        [-0.83851687,  0.4768806 , -0.11738315, -0.68432828,  0.75989841],\n",
       "        [-0.45182699, -0.17152996, -0.40784035,  0.25722402,  0.1596846 ]]),\n",
       " 'b1': array([[ 4.24912067e-07],\n",
       "        [ 3.57047741e-09],\n",
       "        [-1.18418542e-06],\n",
       "        [-1.61450451e-04],\n",
       "        [ 3.08870908e-06]]),\n",
       " 'w2': array([[ 0.19969624, -0.46844666, -0.43068319],\n",
       "        [-0.49266169, -0.34478753, -0.71161671],\n",
       "        [-0.66893656,  0.92777598,  0.92039832],\n",
       "        [-0.623065  , -0.95134603, -0.59086747],\n",
       "        [ 0.40001118,  0.55932107, -0.9539081 ]]),\n",
       " 'b2': array([[1.61897457e-04],\n",
       "        [8.45724032e-05],\n",
       "        [5.46891733e-05]])}"
      ]
     },
     "execution_count": 10,
     "metadata": {},
     "output_type": "execute_result"
    }
   ],
   "source": [
    "best_params"
   ]
  },
  {
   "cell_type": "code",
   "execution_count": 11,
   "metadata": {},
   "outputs": [],
   "source": [
    "def predict(X,y,params):\n",
    "    m = y.shape[1]\n",
    "    w1 = params[\"w1\"]\n",
    "    w2 = params[\"w2\"]\n",
    "    b1 = params[\"b1\"]\n",
    "    b2 = params[\"b2\"]\n",
    "    z1 = np.dot(w1.T,X) + b1 # (4,5).T @ (4,30) + (5,1) = (5,30)\n",
    "    a1 = np.tanh(z1) # (5,120)\n",
    "    z2 = np.dot(w2.T,a1) + b2 # (5,3).T @ (5,30) + (3,1) = (3,30)\n",
    "    a2 = 1 / (1 + np.exp(z2)) # (3,30)\n",
    "    loss = np.multiply(np.log(a2),y) + np.multiply(np.log(1-a2),(1-y))\n",
    "    cost = np.sum(loss) * -1 / m \n",
    "    cost = np.squeeze(cost)\n",
    "    \n",
    "    return a2,cost"
   ]
  },
  {
   "cell_type": "code",
   "execution_count": 12,
   "metadata": {},
   "outputs": [],
   "source": [
    "Xtest = Xtest.T\n",
    "ytest = ytest.T.reshape(1,-1)"
   ]
  },
  {
   "cell_type": "code",
   "execution_count": 13,
   "metadata": {},
   "outputs": [
    {
     "name": "stdout",
     "output_type": "stream",
     "text": [
      "Xtest.shape: (4, 30) ytest.shape: (1, 30)\n"
     ]
    }
   ],
   "source": [
    "print(\"Xtest.shape:\",Xtest.shape,\"ytest.shape:\",ytest.shape)"
   ]
  },
  {
   "cell_type": "code",
   "execution_count": 14,
   "metadata": {},
   "outputs": [],
   "source": [
    "yhat,cost = predict(Xtest,ytest,best_params)"
   ]
  },
  {
   "cell_type": "code",
   "execution_count": 15,
   "metadata": {},
   "outputs": [
    {
     "data": {
      "text/plain": [
       "array([False])"
      ]
     },
     "execution_count": 15,
     "metadata": {},
     "output_type": "execute_result"
    }
   ],
   "source": [
    "ytest[:,0] == np.argmax(yhat[:,0])"
   ]
  },
  {
   "cell_type": "code",
   "execution_count": 16,
   "metadata": {},
   "outputs": [],
   "source": [
    "def accuracy_score(y,yhat):\n",
    "    preds = np.array([np.argmax(yhat[:,i]) for i in range(yhat.shape[1])]).reshape(1,-1)\n",
    "    acc = (y == preds).sum() / preds.shape[1]\n",
    "    return np.round(acc,4)"
   ]
  },
  {
   "cell_type": "code",
   "execution_count": 17,
   "metadata": {},
   "outputs": [
    {
     "data": {
      "text/plain": [
       "0.3333"
      ]
     },
     "execution_count": 17,
     "metadata": {},
     "output_type": "execute_result"
    }
   ],
   "source": [
    "accuracy_score(ytest,yhat)"
   ]
  },
  {
   "cell_type": "code",
   "execution_count": 18,
   "metadata": {},
   "outputs": [
    {
     "data": {
      "text/plain": [
       "[1.0718814411777438, 1.073600074661791, 1.0753348100356528, 1.0770858805284584]"
      ]
     },
     "execution_count": 18,
     "metadata": {},
     "output_type": "execute_result"
    }
   ],
   "source": [
    "costs"
   ]
  },
  {
   "cell_type": "code",
   "execution_count": 19,
   "metadata": {},
   "outputs": [],
   "source": [
    "import matplotlib.pyplot as plt "
   ]
  },
  {
   "cell_type": "code",
   "execution_count": 20,
   "metadata": {},
   "outputs": [
    {
     "data": {
      "text/plain": [
       "Text(0.5, 1.0, 'Loss for each epoch')"
      ]
     },
     "execution_count": 20,
     "metadata": {},
     "output_type": "execute_result"
    },
    {
     "data": {
      "image/png": "[encoded data removed]",
      "text/plain": [
       "<Figure size 432x288 with 1 Axes>"
      ]
     },
     "metadata": {
      "needs_background": "light"
     },
     "output_type": "display_data"
    }
   ],
   "source": [
    "plt.plot(range(len(costs)),costs)\n",
    "plt.xlabel(\"Epochs\")\n",
    "plt.ylabel(\"Loss\")\n",
    "plt.title(\"Loss for each epoch\")"
   ]
  },
  {
   "cell_type": "code",
   "execution_count": null,
   "metadata": {},
   "outputs": [],
   "source": []
  }
 ],
 "metadata": {
  "kernelspec": {
   "display_name": "Python 3",
   "language": "python",
   "name": "python3"
  },
  "language_info": {
   "codemirror_mode": {
    "name": "ipython",
    "version": 3
   },
   "file_extension": ".py",
   "mimetype": "text/x-python",
   "name": "python",
   "nbconvert_exporter": "python",
   "pygments_lexer": "ipython3",
   "version": "3.8.5"
  }
 },
 "nbformat": 4,
 "nbformat_minor": 4
}
