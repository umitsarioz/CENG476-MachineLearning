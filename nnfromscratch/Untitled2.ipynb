{
 "cells": [
  {
   "cell_type": "code",
   "execution_count": 1,
   "metadata": {},
   "outputs": [],
   "source": [
    "import numpy as np\n",
    "import pandas as pd \n",
    "from sklearn.datasets import load_iris\n",
    "from sklearn.model_selection import train_test_split"
   ]
  },
  {
   "cell_type": "code",
   "execution_count": 4,
   "metadata": {},
   "outputs": [],
   "source": [
    "iris_ds = load_iris()"
   ]
  },
  {
   "cell_type": "code",
   "execution_count": 5,
   "metadata": {},
   "outputs": [
    {
     "name": "stdout",
     "output_type": "stream",
     "text": [
      "X.shape: (150, 4) y.shape: (150,)\n"
     ]
    }
   ],
   "source": [
    "X,y = iris_ds.data,iris_ds.target\n",
    "print(\"X.shape:\",X.shape,\"y.shape:\",y.shape)"
   ]
  },
  {
   "cell_type": "code",
   "execution_count": 6,
   "metadata": {},
   "outputs": [],
   "source": [
    "Xtrain,Xtest,ytrain,ytest = train_test_split(X,y,test_size=.2,random_state=3)"
   ]
  },
  {
   "cell_type": "code",
   "execution_count": 7,
   "metadata": {},
   "outputs": [
    {
     "name": "stdout",
     "output_type": "stream",
     "text": [
      "Xtrain.shape: (120, 4) ytrain.shape: (120,)\n",
      "\n",
      "Xtrain[:5]:\n",
      "[[5.8 4.  1.2 0.2]\n",
      " [4.8 3.4 1.9 0.2]\n",
      " [6.9 3.1 5.4 2.1]\n",
      " [6.6 2.9 4.6 1.3]\n",
      " [4.4 2.9 1.4 0.2]]\n",
      "\n",
      "ytrain[:5]:\n",
      "[0 0 2 1 0]\n"
     ]
    }
   ],
   "source": [
    "print(\"Xtrain.shape:\",Xtrain.shape,\"ytrain.shape:\",ytrain.shape)\n",
    "print(f\"\\nXtrain[:5]:\\n{Xtrain[:5]}\\n\\nytrain[:5]:\\n{ytrain[:5]}\")"
   ]
  },
  {
   "cell_type": "code",
   "execution_count": 8,
   "metadata": {},
   "outputs": [],
   "source": [
    "Xtrain,Xtest,ytrain,ytest = Xtrain.T,Xtest.T,ytrain.reshape(-1,1).T,ytest.reshape(-1,1).T"
   ]
  },
  {
   "cell_type": "code",
   "execution_count": 9,
   "metadata": {},
   "outputs": [
    {
     "name": "stdout",
     "output_type": "stream",
     "text": [
      "Xtrain.shape: (4, 120) ytrain.shape: (1, 120)\n",
      "\n",
      "Xtrain[:5]:\n",
      "[[5.8 4.8 6.9 6.6 4.4]\n",
      " [4.  3.4 3.1 2.9 2.9]\n",
      " [1.2 1.9 5.4 4.6 1.4]\n",
      " [0.2 0.2 2.1 1.3 0.2]]\n",
      "\n",
      "ytrain[:5]:\n",
      "[[0 0 2 1 0]]\n"
     ]
    }
   ],
   "source": [
    "print(\"Xtrain.shape:\",Xtrain.shape,\"ytrain.shape:\",ytrain.shape)\n",
    "print(f\"\\nXtrain[:5]:\\n{Xtrain[:,:5]}\\n\\nytrain[:5]:\\n{ytrain[:,:5]}\")"
   ]
  },
  {
   "cell_type": "code",
   "execution_count": 10,
   "metadata": {},
   "outputs": [
    {
     "name": "stdout",
     "output_type": "stream",
     "text": [
      "{0: 'setosa', 1: 'versicolor', 2: 'virginica'}\n"
     ]
    }
   ],
   "source": [
    "idx_to_target = {}\n",
    "for idx,target in enumerate(iris_ds.target_names):\n",
    "    idx_to_target[idx] = target\n",
    "print(idx_to_target)"
   ]
  },
  {
   "cell_type": "code",
   "execution_count": 47,
   "metadata": {},
   "outputs": [],
   "source": [
    "def init_params(layers):\n",
    "        '''\n",
    "        n_x : size of input layer\n",
    "        n_h : size of hidden layer\n",
    "        n_y : size of output layer\n",
    "        w1  : Weights of input layer to hidden layer\n",
    "        b1  : biases of input layer to hidden layer\n",
    "        w2  : Weights of hidden layer to output layer\n",
    "        b2  : biases of hidden layer to output layer \n",
    "        '''\n",
    "        n_x,n_h,n_y = layers[0],layers[1],layers[2]\n",
    "        W1 = np.random.rand(n_h,n_x) * 0.01\n",
    "        b1 = np.zeros((n_h,1))\n",
    "        W2 = np.random.rand(n_y,n_h) * 0.01\n",
    "        b2 = np.zeros((n_y,1))\n",
    "        params = {\"w1\":W1,\"b1\":b1,\"w2\":W2,\"b2\":b2}\n",
    "        return params\n",
    "    \n",
    "def lineer_func(X,W,b):\n",
    "    if X.shape != (X.shape[0],1):\n",
    "        X = X.reshape(-1,1)\n",
    "    return np.dot(W,X) + b \n",
    "\n",
    "def non_lineer_func(Z,f='sigmoid'):\n",
    "    '''\n",
    "    Z : lineer calculation result \n",
    "    f : activation function \n",
    "    '''\n",
    "    if f == 'sigmoid':\n",
    "        score = 1 / (1 + np.exp(-Z))\n",
    "        return score\n",
    "    elif f == 'softmax': \n",
    "        score = np.exp(Z) / np.sum(np.exp(Z))  \n",
    "        return score \n",
    "    elif f== 'tanh':\n",
    "        score = np.tanh(Z)\n",
    "        return score \n",
    "    else:\n",
    "        raise Exception('Wrong Activation Function in Non-lineer!')\n",
    "\n",
    "def forward_propagation(X,y,params):\n",
    "    '''\n",
    "    Args: X: input\n",
    "          y: real value\n",
    "          params: weights and biases\n",
    "    Return: \n",
    "          loss: loss\n",
    "          cache: calculation results z1,a1,z2,a2\n",
    "    '''\n",
    "    W1 = params[\"w1\"]\n",
    "    b1 = params[\"b1\"]\n",
    "    W2 = params[\"w2\"]\n",
    "    b2 = params[\"b2\"]\n",
    "\n",
    "    assert len(y) == 1 \n",
    "    assert W1.shape[1] ==  X.shape[0]\n",
    "    m = 120 # sample_size\n",
    "    Z1 = lineer_func(X,W1,b1)\n",
    "    A1 = non_lineer_func(Z1,f='tanh')\n",
    "    print(\"A1.shape:\",A1.shape,\"W2.shape:\",W2.shape)\n",
    "    assert W2.shape[1] == A1.shape[0]\n",
    "\n",
    "    Z2 = lineer_func(A1,W2,b2)\n",
    "    yhat = non_lineer_func(Z2,f='softmax')\n",
    "\n",
    "    loss = -1 * (np.multiply(np.log(yhat),y) + np.multiply(np.log(1-yhat),1-y))\n",
    "    cost = np.sum(loss) / m \n",
    "    cache = {\"Z1\":Z1,\"A1\":A1,\"Z2\":Z2,\"yhat\":yhat}\n",
    "\n",
    "    return cost,cache\n",
    "\n",
    "def tanh_derivative(A):\n",
    "    '''\n",
    "    Args: You need to give Ai to find derivate of Zi\n",
    "    '''\n",
    "    return (1- np.power(A,2))\n",
    "\n",
    "def back_propagation(X,y,params,cache):\n",
    "    '''\n",
    "    compute derivative and update weights&biases\n",
    "    Returns gradients(grads)\n",
    "    '''\n",
    "\n",
    "    m = 120 # sample_size\n",
    "    W1 = params[\"w1\"]\n",
    "    W2 = params[\"w2\"]\n",
    "\n",
    "    A1 = cache[\"A1\"]\n",
    "    yhat = cache[\"yhat\"]\n",
    "    m = 120 \n",
    "    assert len(y) == 1 \n",
    "    assert yhat.shape == (3,1) # n_y,1\n",
    "    # backward\n",
    "    dz2 =  yhat - y \n",
    "    #print(\"dZ2:\\n\",dz2,\"\\t Shape:\",dz2.shape)\n",
    "    #print(\"A1:\\n\",A1,\"\\t Shape:\",A1.shape)\n",
    "    #print(\"m:\",m)\n",
    "    dw2 = np.dot(dz2,A1.T) / m\n",
    "    db2 = np.sum(dz2,axis=1,keepdims=True) / m\n",
    "\n",
    "    dz1 = np.multiply(np.dot(W2.T,dz2), tanh_derivative(A1))\n",
    "\n",
    "    dw1 = np.dot(dz1,X.T) / m \n",
    "    db1 = np.sum(dz1,axis=1,keepdims=True) / m\n",
    "\n",
    "    grads = {\"dw1\":dw1,\"db1\":db1,\"dw2\":dw2,\"db2\":db2}\n",
    "    return grads\n",
    "\n",
    "def update_params(params,grads,lr=0.001):\n",
    "    '''\n",
    "    Returns updated params\n",
    "    '''\n",
    "    # Weight and biases \n",
    "    W1 = params[\"w1\"]\n",
    "    b1 = params[\"b1\"]\n",
    "    W2 = params[\"w2\"]\n",
    "    b2 = params[\"b2\"]\n",
    "    print(\"W1\",W1)\n",
    "    # Gradients\n",
    "    dw1 = grads[\"dw1\"]\n",
    "    db1 = grads[\"db1\"]\n",
    "    dw2 = grads[\"dw2\"]\n",
    "    db2 = grads[\"db2\"]\n",
    "    #print(\"Dw1:\",dw1)\n",
    "    #print(\"carpim:\",lr*dw1)\n",
    "    #print(\"fark:\",W1-lr*dw1)\n",
    "    # Update parameters according to given parameters and learning rate \n",
    "    w1 = W1 - lr * dw1\n",
    "    b1 = b1 - lr * db1\n",
    "    w2 = W2 - lr * dw2\n",
    "    b2 = b2 - lr * db2\n",
    "\n",
    "    updated_params = {\"w1\":w1,\"b1\":b1,\"w2\":w2,\"b2\":b2}\n",
    "    return updated_params"
   ]
  },
  {
   "cell_type": "code",
   "execution_count": 48,
   "metadata": {},
   "outputs": [
    {
     "name": "stdout",
     "output_type": "stream",
     "text": [
      "X_.shape:(4, 1)\ty_.shape:(1, 1)\n",
      "params\n",
      "\n"
     ]
    },
    {
     "data": {
      "text/plain": [
       "{'w1': array([[9.98257727e-03, 3.42584383e-03, 4.83802431e-03, 7.47925822e-03],\n",
       "        [9.63671758e-03, 6.28405481e-03, 3.87375103e-04, 5.53144982e-03],\n",
       "        [6.96364573e-03, 6.18422778e-04, 9.02290060e-03, 9.19127449e-03],\n",
       "        [1.82596343e-04, 1.51478169e-03, 8.51045369e-03, 8.73564611e-03],\n",
       "        [7.11631477e-03, 3.26854433e-03, 7.27981316e-05, 9.81603629e-03]]),\n",
       " 'b1': array([[0.],\n",
       "        [0.],\n",
       "        [0.],\n",
       "        [0.],\n",
       "        [0.]]),\n",
       " 'w2': array([[6.64915261e-03, 9.74576562e-04, 5.50832759e-03, 3.32336580e-03,\n",
       "         7.54376306e-03],\n",
       "        [7.61998847e-05, 5.18960184e-03, 9.62337159e-03, 5.01958397e-03,\n",
       "         5.02804313e-03],\n",
       "        [5.16670711e-03, 4.94036338e-03, 9.93613231e-03, 3.01095738e-03,\n",
       "         5.85145686e-03]]),\n",
       " 'b2': array([[0.],\n",
       "        [0.],\n",
       "        [0.]])}"
      ]
     },
     "execution_count": 48,
     "metadata": {},
     "output_type": "execute_result"
    }
   ],
   "source": [
    "layers = [4,5,3]\n",
    "lr = 0.001\n",
    "X1,y1 = Xtrain[:,2].reshape(-1,1),ytrain[:,3].reshape(-1,1)\n",
    "print(f\"X_.shape:{X1.shape}\\ty_.shape:{y1.shape}\")\n",
    "params = init_params(layers)\n",
    "print(\"params\\n\")\n",
    "params"
   ]
  },
  {
   "cell_type": "code",
   "execution_count": 49,
   "metadata": {},
   "outputs": [
    {
     "name": "stdout",
     "output_type": "stream",
     "text": [
      "A1.shape: (5, 1) W2.shape: (3, 5)\n",
      "cost: 0.027465308103770517\n"
     ]
    }
   ],
   "source": [
    "cost,cache = forward_propagation(X1,y1,params)\n",
    "print(\"cost:\",cost)"
   ]
  },
  {
   "cell_type": "code",
   "execution_count": 50,
   "metadata": {},
   "outputs": [
    {
     "data": {
      "text/plain": [
       "{'Z1': array([[0.12133167],\n",
       "        [0.09968179],\n",
       "        [0.11799161],\n",
       "        [0.07025704],\n",
       "        [0.08024185]]),\n",
       " 'A1': array([[0.12073977],\n",
       "        [0.09935294],\n",
       "        [0.11744708],\n",
       "        [0.07014168],\n",
       "        [0.08007007]]),\n",
       " 'Z2': array([[0.00238372],\n",
       "        [0.00240972],\n",
       "        [0.00296136]]),\n",
       " 'yhat': array([[0.33326626],\n",
       "        [0.33327492],\n",
       "        [0.33345882]])}"
      ]
     },
     "execution_count": 50,
     "metadata": {},
     "output_type": "execute_result"
    }
   ],
   "source": [
    "cache"
   ]
  },
  {
   "cell_type": "code",
   "execution_count": 51,
   "metadata": {},
   "outputs": [
    {
     "data": {
      "text/plain": [
       "{'dw1': array([[-0.00044921, -0.00020182, -0.00035155, -0.00013671],\n",
       "        [-0.00042146, -0.00018935, -0.00032984, -0.00012827],\n",
       "        [-0.00094766, -0.00042576, -0.00074165, -0.00028842],\n",
       "        [-0.0004331 , -0.00019458, -0.00033895, -0.00013181],\n",
       "        [-0.0007017 , -0.00031526, -0.00054916, -0.00021356]]),\n",
       " 'db1': array([[-6.51022419e-05],\n",
       "        [-6.10808629e-05],\n",
       "        [-1.37342134e-04],\n",
       "        [-6.27680776e-05],\n",
       "        [-1.01695806e-04]]),\n",
       " 'dw2': array([[-0.00067084, -0.00055202, -0.00065255, -0.00038972, -0.00044488],\n",
       "        [-0.00067084, -0.00055201, -0.00065254, -0.00038971, -0.00044487],\n",
       "        [-0.00067065, -0.00055186, -0.00065236, -0.0003896 , -0.00044475]]),\n",
       " 'db2': array([[-0.00555611],\n",
       "        [-0.00555604],\n",
       "        [-0.00555451]])}"
      ]
     },
     "execution_count": 51,
     "metadata": {},
     "output_type": "execute_result"
    }
   ],
   "source": [
    "grads = back_propagation(X1,y1,params,cache)\n",
    "grads"
   ]
  },
  {
   "cell_type": "code",
   "execution_count": 52,
   "metadata": {},
   "outputs": [
    {
     "name": "stdout",
     "output_type": "stream",
     "text": [
      "W1 [[9.98257727e-03 3.42584383e-03 4.83802431e-03 7.47925822e-03]\n",
      " [9.63671758e-03 6.28405481e-03 3.87375103e-04 5.53144982e-03]\n",
      " [6.96364573e-03 6.18422778e-04 9.02290060e-03 9.19127449e-03]\n",
      " [1.82596343e-04 1.51478169e-03 8.51045369e-03 8.73564611e-03]\n",
      " [7.11631477e-03 3.26854433e-03 7.27981316e-05 9.81603629e-03]]\n"
     ]
    },
    {
     "data": {
      "text/plain": [
       "{'w1': array([[0.01043178, 0.00362766, 0.00518958, 0.00761597],\n",
       "        [0.01005818, 0.00647341, 0.00071721, 0.00565972],\n",
       "        [0.00791131, 0.00104418, 0.00976455, 0.00947969],\n",
       "        [0.0006157 , 0.00170936, 0.0088494 , 0.00886746],\n",
       "        [0.00781802, 0.0035838 , 0.00062196, 0.0100296 ]]),\n",
       " 'b1': array([[6.51022419e-05],\n",
       "        [6.10808629e-05],\n",
       "        [1.37342134e-04],\n",
       "        [6.27680776e-05],\n",
       "        [1.01695806e-04]]),\n",
       " 'w2': array([[0.00732   , 0.00152659, 0.00616088, 0.00371308, 0.00798864],\n",
       "        [0.00074704, 0.00574161, 0.01027591, 0.00540929, 0.00547292],\n",
       "        [0.00583736, 0.00549222, 0.01058849, 0.00340056, 0.00629621]]),\n",
       " 'b2': array([[0.00555611],\n",
       "        [0.00555604],\n",
       "        [0.00555451]])}"
      ]
     },
     "execution_count": 52,
     "metadata": {},
     "output_type": "execute_result"
    }
   ],
   "source": [
    "updated_params = update_params(params,grads,lr=1)\n",
    "updated_params"
   ]
  },
  {
   "cell_type": "code",
   "execution_count": 53,
   "metadata": {},
   "outputs": [
    {
     "data": {
      "text/plain": [
       "array([[False, False, False, False],\n",
       "       [False, False, False, False],\n",
       "       [False, False, False, False],\n",
       "       [False, False, False, False],\n",
       "       [False, False, False, False]])"
      ]
     },
     "execution_count": 53,
     "metadata": {},
     "output_type": "execute_result"
    }
   ],
   "source": [
    "params[\"w1\"] == updated_params[\"w1\"]"
   ]
  },
  {
   "cell_type": "code",
   "execution_count": 54,
   "metadata": {},
   "outputs": [
    {
     "data": {
      "text/plain": [
       "array([[9.98257727e-03, 3.42584383e-03, 4.83802431e-03, 7.47925822e-03],\n",
       "       [9.63671758e-03, 6.28405481e-03, 3.87375103e-04, 5.53144982e-03],\n",
       "       [6.96364573e-03, 6.18422778e-04, 9.02290060e-03, 9.19127449e-03],\n",
       "       [1.82596343e-04, 1.51478169e-03, 8.51045369e-03, 8.73564611e-03],\n",
       "       [7.11631477e-03, 3.26854433e-03, 7.27981316e-05, 9.81603629e-03]])"
      ]
     },
     "execution_count": 54,
     "metadata": {},
     "output_type": "execute_result"
    }
   ],
   "source": [
    "params[\"w1\"]"
   ]
  },
  {
   "cell_type": "code",
   "execution_count": 55,
   "metadata": {},
   "outputs": [
    {
     "data": {
      "text/plain": [
       "array([[0.01043178, 0.00362766, 0.00518958, 0.00761597],\n",
       "       [0.01005818, 0.00647341, 0.00071721, 0.00565972],\n",
       "       [0.00791131, 0.00104418, 0.00976455, 0.00947969],\n",
       "       [0.0006157 , 0.00170936, 0.0088494 , 0.00886746],\n",
       "       [0.00781802, 0.0035838 , 0.00062196, 0.0100296 ]])"
      ]
     },
     "execution_count": 55,
     "metadata": {},
     "output_type": "execute_result"
    }
   ],
   "source": [
    "updated_params[\"w1\"]"
   ]
  },
  {
   "cell_type": "code",
   "execution_count": null,
   "metadata": {},
   "outputs": [],
   "source": []
  },
  {
   "cell_type": "code",
   "execution_count": 60,
   "metadata": {},
   "outputs": [],
   "source": [
    "# ALT TARAF SILINEBILIR .. "
   ]
  },
  {
   "cell_type": "code",
   "execution_count": 58,
   "metadata": {},
   "outputs": [],
   "source": [
    "def fit(X,y,sample_size,epochs=1000):\n",
    "    layer_dims = [4,5,3]\n",
    "    lr = 0.001\n",
    "    print(\"Training is began..\")\n",
    "    params = init_params(layer_dims) \n",
    "    for epoch in range(epochs):\n",
    "        for i in range(sample_size):\n",
    "            X_,y_ = X[:,i],y[:,i]\n",
    "            loss,cache = forward_propagation(X_,y_,params)\n",
    "            grads = back_propagation(X_,y_,params,cache)\n",
    "            params = update_params(params,grads,lr=1)\n",
    "            self.loss.append(loss)\n",
    "        cost = np.sum(self.loss) / sample_size\n",
    "\n",
    "    if epoch % 10 == 0:\n",
    "        print(\"Epoch: {} \\t Cost: {}\".format(epoch,cost))"
   ]
  },
  {
   "cell_type": "code",
   "execution_count": 59,
   "metadata": {},
   "outputs": [
    {
     "name": "stdout",
     "output_type": "stream",
     "text": [
      "Training is began..\n",
      "A1.shape: (5, 1) W2.shape: (3, 5)\n"
     ]
    },
    {
     "ename": "ValueError",
     "evalue": "shapes (5,1) and (4,) not aligned: 1 (dim 1) != 4 (dim 0)",
     "output_type": "error",
     "traceback": [
      "\u001b[1;31m---------------------------------------------------------------------------\u001b[0m",
      "\u001b[1;31mValueError\u001b[0m                                Traceback (most recent call last)",
      "\u001b[1;32m<ipython-input-59-d5e9f035fbeb>\u001b[0m in \u001b[0;36m<module>\u001b[1;34m\u001b[0m\n\u001b[1;32m----> 1\u001b[1;33m \u001b[0mfit\u001b[0m\u001b[1;33m(\u001b[0m\u001b[0mXtrain\u001b[0m\u001b[1;33m,\u001b[0m\u001b[0mytrain\u001b[0m\u001b[1;33m,\u001b[0m\u001b[1;36m120\u001b[0m\u001b[1;33m,\u001b[0m\u001b[1;36m1000\u001b[0m\u001b[1;33m)\u001b[0m\u001b[1;33m\u001b[0m\u001b[1;33m\u001b[0m\u001b[0m\n\u001b[0m",
      "\u001b[1;32m<ipython-input-58-587692fe7e04>\u001b[0m in \u001b[0;36mfit\u001b[1;34m(X, y, sample_size, epochs)\u001b[0m\n\u001b[0;32m      8\u001b[0m             \u001b[0mX_\u001b[0m\u001b[1;33m,\u001b[0m\u001b[0my_\u001b[0m \u001b[1;33m=\u001b[0m \u001b[0mX\u001b[0m\u001b[1;33m[\u001b[0m\u001b[1;33m:\u001b[0m\u001b[1;33m,\u001b[0m\u001b[0mi\u001b[0m\u001b[1;33m]\u001b[0m\u001b[1;33m,\u001b[0m\u001b[0my\u001b[0m\u001b[1;33m[\u001b[0m\u001b[1;33m:\u001b[0m\u001b[1;33m,\u001b[0m\u001b[0mi\u001b[0m\u001b[1;33m]\u001b[0m\u001b[1;33m\u001b[0m\u001b[1;33m\u001b[0m\u001b[0m\n\u001b[0;32m      9\u001b[0m             \u001b[0mloss\u001b[0m\u001b[1;33m,\u001b[0m\u001b[0mcache\u001b[0m \u001b[1;33m=\u001b[0m \u001b[0mforward_propagation\u001b[0m\u001b[1;33m(\u001b[0m\u001b[0mX_\u001b[0m\u001b[1;33m,\u001b[0m\u001b[0my_\u001b[0m\u001b[1;33m,\u001b[0m\u001b[0mparams\u001b[0m\u001b[1;33m)\u001b[0m\u001b[1;33m\u001b[0m\u001b[1;33m\u001b[0m\u001b[0m\n\u001b[1;32m---> 10\u001b[1;33m             \u001b[0mgrads\u001b[0m \u001b[1;33m=\u001b[0m \u001b[0mback_propagation\u001b[0m\u001b[1;33m(\u001b[0m\u001b[0mX_\u001b[0m\u001b[1;33m,\u001b[0m\u001b[0my_\u001b[0m\u001b[1;33m,\u001b[0m\u001b[0mparams\u001b[0m\u001b[1;33m,\u001b[0m\u001b[0mcache\u001b[0m\u001b[1;33m)\u001b[0m\u001b[1;33m\u001b[0m\u001b[1;33m\u001b[0m\u001b[0m\n\u001b[0m\u001b[0;32m     11\u001b[0m             \u001b[0mparams\u001b[0m \u001b[1;33m=\u001b[0m \u001b[0mupdate_params\u001b[0m\u001b[1;33m(\u001b[0m\u001b[0mparams\u001b[0m\u001b[1;33m,\u001b[0m\u001b[0mgrads\u001b[0m\u001b[1;33m,\u001b[0m\u001b[0mlr\u001b[0m\u001b[1;33m=\u001b[0m\u001b[1;36m1\u001b[0m\u001b[1;33m)\u001b[0m\u001b[1;33m\u001b[0m\u001b[1;33m\u001b[0m\u001b[0m\n\u001b[0;32m     12\u001b[0m             \u001b[0mself\u001b[0m\u001b[1;33m.\u001b[0m\u001b[0mloss\u001b[0m\u001b[1;33m.\u001b[0m\u001b[0mappend\u001b[0m\u001b[1;33m(\u001b[0m\u001b[0mloss\u001b[0m\u001b[1;33m)\u001b[0m\u001b[1;33m\u001b[0m\u001b[1;33m\u001b[0m\u001b[0m\n",
      "\u001b[1;32m<ipython-input-47-95c5ff958aad>\u001b[0m in \u001b[0;36mback_propagation\u001b[1;34m(X, y, params, cache)\u001b[0m\n\u001b[0;32m    101\u001b[0m     \u001b[0mdz1\u001b[0m \u001b[1;33m=\u001b[0m \u001b[0mnp\u001b[0m\u001b[1;33m.\u001b[0m\u001b[0mmultiply\u001b[0m\u001b[1;33m(\u001b[0m\u001b[0mnp\u001b[0m\u001b[1;33m.\u001b[0m\u001b[0mdot\u001b[0m\u001b[1;33m(\u001b[0m\u001b[0mW2\u001b[0m\u001b[1;33m.\u001b[0m\u001b[0mT\u001b[0m\u001b[1;33m,\u001b[0m\u001b[0mdz2\u001b[0m\u001b[1;33m)\u001b[0m\u001b[1;33m,\u001b[0m \u001b[0mtanh_derivative\u001b[0m\u001b[1;33m(\u001b[0m\u001b[0mA1\u001b[0m\u001b[1;33m)\u001b[0m\u001b[1;33m)\u001b[0m\u001b[1;33m\u001b[0m\u001b[1;33m\u001b[0m\u001b[0m\n\u001b[0;32m    102\u001b[0m \u001b[1;33m\u001b[0m\u001b[0m\n\u001b[1;32m--> 103\u001b[1;33m     \u001b[0mdw1\u001b[0m \u001b[1;33m=\u001b[0m \u001b[0mnp\u001b[0m\u001b[1;33m.\u001b[0m\u001b[0mdot\u001b[0m\u001b[1;33m(\u001b[0m\u001b[0mdz1\u001b[0m\u001b[1;33m,\u001b[0m\u001b[0mX\u001b[0m\u001b[1;33m.\u001b[0m\u001b[0mT\u001b[0m\u001b[1;33m)\u001b[0m \u001b[1;33m/\u001b[0m \u001b[0mm\u001b[0m\u001b[1;33m\u001b[0m\u001b[1;33m\u001b[0m\u001b[0m\n\u001b[0m\u001b[0;32m    104\u001b[0m     \u001b[0mdb1\u001b[0m \u001b[1;33m=\u001b[0m \u001b[0mnp\u001b[0m\u001b[1;33m.\u001b[0m\u001b[0msum\u001b[0m\u001b[1;33m(\u001b[0m\u001b[0mdz1\u001b[0m\u001b[1;33m,\u001b[0m\u001b[0maxis\u001b[0m\u001b[1;33m=\u001b[0m\u001b[1;36m1\u001b[0m\u001b[1;33m,\u001b[0m\u001b[0mkeepdims\u001b[0m\u001b[1;33m=\u001b[0m\u001b[1;32mTrue\u001b[0m\u001b[1;33m)\u001b[0m \u001b[1;33m/\u001b[0m \u001b[0mm\u001b[0m\u001b[1;33m\u001b[0m\u001b[1;33m\u001b[0m\u001b[0m\n\u001b[0;32m    105\u001b[0m \u001b[1;33m\u001b[0m\u001b[0m\n",
      "\u001b[1;32m<__array_function__ internals>\u001b[0m in \u001b[0;36mdot\u001b[1;34m(*args, **kwargs)\u001b[0m\n",
      "\u001b[1;31mValueError\u001b[0m: shapes (5,1) and (4,) not aligned: 1 (dim 1) != 4 (dim 0)"
     ]
    }
   ],
   "source": [
    "fit(Xtrain,ytrain,120,1000)"
   ]
  },
  {
   "cell_type": "code",
   "execution_count": null,
   "metadata": {},
   "outputs": [],
   "source": []
  }
 ],
 "metadata": {
  "kernelspec": {
   "display_name": "Python 3",
   "language": "python",
   "name": "python3"
  },
  "language_info": {
   "codemirror_mode": {
    "name": "ipython",
    "version": 3
   },
   "file_extension": ".py",
   "mimetype": "text/x-python",
   "name": "python",
   "nbconvert_exporter": "python",
   "pygments_lexer": "ipython3",
   "version": "3.8.5"
  }
 },
 "nbformat": 4,
 "nbformat_minor": 4
}
